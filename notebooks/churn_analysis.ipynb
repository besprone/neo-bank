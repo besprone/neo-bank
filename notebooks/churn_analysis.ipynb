{
 "cells": [
  {
   "cell_type": "code",
   "execution_count": null,
   "id": "0",
   "metadata": {},
   "outputs": [],
   "source": [
    "import pandas as pd"
   ]
  },
  {
   "cell_type": "code",
   "execution_count": null,
   "id": "1",
   "metadata": {},
   "outputs": [],
   "source": [
    "%config Completer.use_jedi = True"
   ]
  },
  {
   "cell_type": "code",
   "execution_count": null,
   "id": "2",
   "metadata": {},
   "outputs": [],
   "source": [
    "df_devices = pd.read_csv('../data/devices.csv')\n",
    "df_notifications = pd.read_csv('../data/notifications.csv')\n",
    "df_transactions = pd.read_csv('../data/transactions.csv')\n",
    "df_users = pd.read_csv('../data/users.csv')\n",
    "\n",
    "display(df_devices.head(5), df_notifications.head(5), df_transactions.head(5), df_users.head(5))"
   ]
  },
  {
   "cell_type": "code",
   "execution_count": null,
   "id": "3",
   "metadata": {},
   "outputs": [],
   "source": [
    "display(df_devices.info(), df_notifications.info(), df_transactions.info(), df_users.info())"
   ]
  },
  {
   "cell_type": "code",
   "execution_count": null,
   "id": "4",
   "metadata": {},
   "outputs": [],
   "source": [
    "display(df_devices.describe(), df_notifications.describe(), df_transactions.describe(), df_users.describe())"
   ]
  },
  {
   "cell_type": "code",
   "execution_count": null,
   "id": "5",
   "metadata": {},
   "outputs": [],
   "source": [
    "## cambiar el nombre a la tabla\n",
    "\n",
    "df_devices = df_devices.rename(columns={\"string_field_0\": \"brand_device\", \"string_field_1\": \"user_id\"})\n",
    "df_notifications = df_notifications.rename(columns={'created_date': 'create_date_notification'})\n",
    "df_transactions = df_transactions.rename(columns={'created_date': 'create_date_transaction'})\n",
    "df_users = df_users.rename(columns={'created_date': 'create_date_user'})\n",
    "\n",
    "display(df_devices, df_notifications, df_transactions, df_users)"
   ]
  },
  {
   "cell_type": "markdown",
   "id": "6",
   "metadata": {},
   "source": [
    "### Merge"
   ]
  },
  {
   "cell_type": "code",
   "execution_count": null,
   "id": "7",
   "metadata": {},
   "outputs": [],
   "source": [
    "pd.set_option('display.max_columns', None)\n",
    "\n",
    "df = df_users.merge(df_devices, on = 'user_id', how='left')\n",
    "df = df.merge(df_notifications, on = \"user_id\", how = \"left\")\n",
    "df = df.merge(df_transactions, on = \"user_id\", how = 'left')\n",
    "df.head(30)"
   ]
  },
  {
   "cell_type": "code",
   "execution_count": null,
   "id": "8",
   "metadata": {},
   "outputs": [],
   "source": [
    "df.isnull().sum().sort_values(ascending=False)"
   ]
  },
  {
   "cell_type": "code",
   "execution_count": null,
   "id": "9",
   "metadata": {},
   "outputs": [],
   "source": [
    "df.shape"
   ]
  },
  {
   "cell_type": "code",
   "execution_count": null,
   "id": "10",
   "metadata": {},
   "outputs": [],
   "source": [
    "df['create_date_user'] = pd.to_datetime(df['create_date_user'])\n",
    "df['create_date_transaction'] = pd.to_datetime(df['create_date_transaction'])\n",
    "df['create_date_notification'] = pd.to_datetime(df['create_date_notification'])\n",
    "df.info()"
   ]
  },
  {
   "cell_type": "markdown",
   "id": "11",
   "metadata": {},
   "source": [
    "### Top 10 paises con más usuarios"
   ]
  },
  {
   "cell_type": "code",
   "execution_count": null,
   "id": "12",
   "metadata": {},
   "outputs": [],
   "source": [
    "country_users = df.groupby('country')['user_id'].nunique().sort_values(ascending=False).head(10).reset_index()\n",
    "country_users.columns = ['country', 'unique_users']\n",
    "country_users"
   ]
  },
  {
   "cell_type": "code",
   "execution_count": null,
   "id": "13",
   "metadata": {},
   "outputs": [],
   "source": [
    "import plotly.express as px\n",
    "import plotly.io as pio\n",
    "pio.renderers.default = 'notebook'  # o 'iframe_connected' o 'svg'\n",
    "\n",
    "fig_top10_countries = px.bar(\n",
    "    country_users,\n",
    "    x=\"country\",\n",
    "    y=\"unique_users\",\n",
    "    title=\"Top 10 usuarios por país\"\n",
    ")\n",
    "\n",
    "fig_top10_countries.show()"
   ]
  },
  {
   "cell_type": "code",
   "execution_count": null,
   "id": "14",
   "metadata": {},
   "outputs": [],
   "source": [
    "df.to_csv('../data/df.csv')"
   ]
  },
  {
   "cell_type": "code",
   "execution_count": null,
   "id": "15",
   "metadata": {},
   "outputs": [],
   "source": [
    "crypto_users = df.groupby('user_settings_crypto_unlocked')['user_id'].nunique().reset_index()\n",
    "crypto_users"
   ]
  },
  {
   "cell_type": "code",
   "execution_count": null,
   "id": "16",
   "metadata": {},
   "outputs": [],
   "source": [
    "fig_usuarios_crypto = px.bar(\n",
    "    crypto_users,\n",
    "    x=\"user_settings_crypto_unlocked\",\n",
    "    y=\"user_id\",\n",
    "    title=\"Usuarios con cryptomonedas\"\n",
    ")\n",
    "\n",
    "fig_usuarios_crypto.show()"
   ]
  },
  {
   "cell_type": "code",
   "execution_count": null,
   "id": "17",
   "metadata": {},
   "outputs": [],
   "source": [
    "df['plan'].unique()"
   ]
  },
  {
   "cell_type": "code",
   "execution_count": null,
   "id": "18",
   "metadata": {},
   "outputs": [],
   "source": [
    "plan_user = df.groupby('plan')['user_id'].nunique().sort_values(ascending=False).reset_index()\n",
    "plan_user"
   ]
  },
  {
   "cell_type": "code",
   "execution_count": null,
   "id": "19",
   "metadata": {},
   "outputs": [],
   "source": [
    "fig_usuarios_plan = px.bar(\n",
    "    plan_user,\n",
    "    x=\"plan\",\n",
    "    y=\"user_id\",\n",
    "    title=\"Tipos de plan por uusario\"\n",
    ")\n",
    "\n",
    "fig_usuarios_plan.show()"
   ]
  },
  {
   "cell_type": "code",
   "execution_count": null,
   "id": "20",
   "metadata": {},
   "outputs": [],
   "source": [
    "status_noti = df.groupby('status')['user_id'].nunique().reset_index()\n",
    "df_notifications.shape, status_noti"
   ]
  },
  {
   "cell_type": "code",
   "execution_count": null,
   "id": "21",
   "metadata": {},
   "outputs": [],
   "source": [
    "channel = df.groupby('channel')['user_id'].nunique().reset_index()\n",
    "df_notifications.shape, channel"
   ]
  },
  {
   "cell_type": "code",
   "execution_count": null,
   "id": "22",
   "metadata": {},
   "outputs": [],
   "source": [
    "transactions_type = df.groupby('transactions_type')['user_id'].nunique().sort_values(ascending=False).reset_index()\n",
    "transactions_type"
   ]
  },
  {
   "cell_type": "code",
   "execution_count": null,
   "id": "23",
   "metadata": {},
   "outputs": [],
   "source": [
    "transactions_state = df.groupby('transactions_state')['user_id'].count().sort_values(ascending=False).reset_index()\n",
    "transactions_state"
   ]
  },
  {
   "cell_type": "code",
   "execution_count": null,
   "id": "24",
   "metadata": {},
   "outputs": [],
   "source": [
    "df.sample()"
   ]
  },
  {
   "cell_type": "code",
   "execution_count": null,
   "id": "25",
   "metadata": {},
   "outputs": [],
   "source": [
    "df['plan'].value_counts(), df['country'].value_counts().head(10), df['transactions_state'].value_counts()"
   ]
  },
  {
   "cell_type": "code",
   "execution_count": null,
   "id": "26",
   "metadata": {},
   "outputs": [],
   "source": [
    "df[['amount_usd', 'birth_year']].describe()"
   ]
  },
  {
   "cell_type": "code",
   "execution_count": null,
   "id": "27",
   "metadata": {},
   "outputs": [],
   "source": [
    "display(df['birth_year'].value_counts().sort_index(), df[df['birth_year'] < 1900])  # valores que no tienen sentido\n"
   ]
  },
  {
   "cell_type": "code",
   "execution_count": null,
   "id": "28",
   "metadata": {},
   "outputs": [],
   "source": [
    "df.corr(numeric_only=True)"
   ]
  },
  {
   "cell_type": "code",
   "execution_count": null,
   "id": "29",
   "metadata": {},
   "outputs": [],
   "source": [
    "import seaborn as sns\n",
    "import matplotlib.pyplot as plt\n",
    "\n",
    "sns.heatmap(df.corr(numeric_only=True), annot=True, cmap='coolwarm')\n",
    "plt.title(\"Correlación entre variables numéricas\")\n",
    "plt.show()"
   ]
  },
  {
   "cell_type": "code",
   "execution_count": null,
   "id": "30",
   "metadata": {},
   "outputs": [],
   "source": [
    "display(\n",
    "    df.groupby('plan')['amount_usd'].mean().sort_values(ascending=False), \n",
    "    df.groupby('country')['num_contacts'].mean().sort_values(ascending=False)\n",
    ")"
   ]
  },
  {
   "cell_type": "code",
   "execution_count": null,
   "id": "31",
   "metadata": {},
   "outputs": [],
   "source": [
    "# Transacciones promedio por plan\n",
    "df_transactions.groupby('user_id').agg({\n",
    "    'transaction_id': 'count'\n",
    "}).merge(df_users, on='user_id').groupby('plan')['transaction_id'].mean().sort_values(ascending=False)"
   ]
  },
  {
   "cell_type": "code",
   "execution_count": null,
   "id": "32",
   "metadata": {},
   "outputs": [],
   "source": [
    "# ¿Los usuarios que recibieron notificaciones transaccionan más?\n",
    "notified_users = df_notifications['user_id'].unique()\n",
    "df['received_notification'] = df['user_id'].isin(notified_users)\n",
    "df.groupby('received_notification')['amount_usd'].mean()"
   ]
  },
  {
   "cell_type": "code",
   "execution_count": null,
   "id": "33",
   "metadata": {},
   "outputs": [],
   "source": [
    "df.groupby('user_settings_crypto_unlocked')['amount_usd'].mean()"
   ]
  },
  {
   "cell_type": "code",
   "execution_count": null,
   "id": "34",
   "metadata": {},
   "outputs": [],
   "source": [
    "df.groupby('birth_year')['user_id'].nunique().sort_values(ascending=False).head(10)"
   ]
  },
  {
   "cell_type": "code",
   "execution_count": null,
   "id": "35",
   "metadata": {},
   "outputs": [],
   "source": [
    "df['age'] = 2025 - df['birth_year']\n",
    "\n",
    "bins = [0, 17, 24, 34, 44, 54, 64, 120]\n",
    "labels = ['<18', '18–24', '25–34', '35–44', '45–54', '55–64', '65+']\n",
    "\n",
    "df['age_group'] = pd.cut(df['age'], bins=bins, labels=labels, right=True)\n",
    "\n",
    "df.groupby('age_group')['user_id'].nunique().sort_values(ascending=False)\n"
   ]
  },
  {
   "cell_type": "code",
   "execution_count": null,
   "id": "36",
   "metadata": {},
   "outputs": [],
   "source": [
    "df"
   ]
  },
  {
   "cell_type": "code",
   "execution_count": null,
   "id": "37",
   "metadata": {},
   "outputs": [],
   "source": []
  }
 ],
 "metadata": {
  "kernelspec": {
   "display_name": "venv",
   "language": "python",
   "name": "python3"
  },
  "language_info": {
   "codemirror_mode": {
    "name": "ipython",
    "version": 3
   },
   "file_extension": ".py",
   "mimetype": "text/x-python",
   "name": "python",
   "nbconvert_exporter": "python",
   "pygments_lexer": "ipython3",
   "version": "3.13.5"
  }
 },
 "nbformat": 4,
 "nbformat_minor": 5
}
