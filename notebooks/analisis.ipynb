{
 "cells": [
  {
   "cell_type": "code",
   "execution_count": null,
   "id": "0",
   "metadata": {},
   "outputs": [],
   "source": [
    "import pandas as pd\n",
    "import plotly.express as px"
   ]
  },
  {
   "cell_type": "code",
   "execution_count": null,
   "id": "1",
   "metadata": {},
   "outputs": [],
   "source": [
    "%config Completer.use_jedi = True"
   ]
  },
  {
   "cell_type": "markdown",
   "id": "2",
   "metadata": {},
   "source": [
    "# Importando tablas"
   ]
  },
  {
   "cell_type": "code",
   "execution_count": null,
   "id": "3",
   "metadata": {},
   "outputs": [],
   "source": [
    "df_devices = pd.read_csv('../data/devices.csv')\n",
    "df_notifications = pd.read_csv('../data/notifications.csv')\n",
    "df_transactions = pd.read_csv('../data/transactions.csv')\n",
    "df_users = pd.read_csv('../data/users.csv')\n",
    "\n",
    "display(df_devices.head(5), df_notifications.head(5), df_transactions.head(5), df_users.head(5))"
   ]
  },
  {
   "cell_type": "code",
   "execution_count": null,
   "id": "4",
   "metadata": {},
   "outputs": [],
   "source": [
    "display(df_devices.info(), df_notifications.info(), df_transactions.info(), df_users.info())"
   ]
  },
  {
   "cell_type": "markdown",
   "id": "5",
   "metadata": {},
   "source": [
    "# Rename"
   ]
  },
  {
   "cell_type": "code",
   "execution_count": null,
   "id": "6",
   "metadata": {},
   "outputs": [],
   "source": [
    "## cambiar el nombre a la tabla\n",
    "\n",
    "df_devices = df_devices.rename(columns={\"string_field_0\": \"brand_device\", \"string_field_1\": \"user_id\"})\n",
    "df_notifications = df_notifications.rename(columns={'created_date': 'create_date_notification'})\n",
    "df_transactions = df_transactions.rename(columns={'created_date': 'create_date_transaction'})\n",
    "df_users = df_users.rename(columns={'created_date': 'create_date_user'})\n",
    "\n",
    "display(df_devices, df_notifications, df_transactions, df_users)"
   ]
  },
  {
   "cell_type": "code",
   "execution_count": null,
   "id": "7",
   "metadata": {},
   "outputs": [],
   "source": [
    "df_users['num_successful_referrals'].sum()"
   ]
  },
  {
   "cell_type": "markdown",
   "id": "8",
   "metadata": {},
   "source": [
    "# Merge"
   ]
  },
  {
   "cell_type": "code",
   "execution_count": null,
   "id": "9",
   "metadata": {},
   "outputs": [],
   "source": [
    "pd.set_option('display.max_columns', None)\n",
    "\n",
    "df = df_users.merge(df_devices, on = 'user_id', how='left')\n",
    "df = df.merge(df_notifications, on = \"user_id\", how = \"left\")\n",
    "df = df.merge(df_transactions, on = \"user_id\", how = 'left')\n",
    "df.head(30)"
   ]
  },
  {
   "cell_type": "code",
   "execution_count": null,
   "id": "10",
   "metadata": {},
   "outputs": [],
   "source": [
    "df.shape"
   ]
  },
  {
   "cell_type": "code",
   "execution_count": null,
   "id": "11",
   "metadata": {},
   "outputs": [],
   "source": [
    "df.isnull().sum().sort_values(ascending=False)"
   ]
  },
  {
   "cell_type": "markdown",
   "id": "12",
   "metadata": {},
   "source": [
    "📌 1. Identifica columnas con demasiados nulos\n",
    "\n",
    "Estas columnas tienen más de 70% de nulos, lo que generalmente amerita eliminarlas:"
   ]
  },
  {
   "cell_type": "code",
   "execution_count": null,
   "id": "13",
   "metadata": {},
   "outputs": [],
   "source": [
    "cols_to_drop = [\n",
    "    'ea_cardholderpresence',       # 295,484 nulos\n",
    "    'ea_merchant_city',            # 294,220 nulos\n",
    "    'ea_merchant_country',         # 294,213 nulos\n",
    "    'ea_merchant_mcc'             # 294,204 nulos\n",
    "]\n",
    "\n",
    "df = df.drop(columns=cols_to_drop)\n",
    "df.isnull().sum().sort_values(ascending=False)"
   ]
  },
  {
   "cell_type": "markdown",
   "id": "14",
   "metadata": {},
   "source": [
    "📌 2. Imputa columnas con banderas booleanas\n",
    "\n",
    "Estas columnas tienen ~122k nulos, pero su naturaleza es binaria (0/1). Lo más probable es que los nulos signifiquen \"no lo activó\", así que los puedes rellenar con 0:"
   ]
  },
  {
   "cell_type": "code",
   "execution_count": null,
   "id": "15",
   "metadata": {},
   "outputs": [],
   "source": [
    "df['attributes_notifications_marketing_push'] = df['attributes_notifications_marketing_push'].fillna(0)\n",
    "df['attributes_notifications_marketing_email'] = df['attributes_notifications_marketing_email'].fillna(0)\n",
    "\n",
    "df.isnull().sum().sort_values(ascending=False)"
   ]
  },
  {
   "cell_type": "markdown",
   "id": "16",
   "metadata": {},
   "source": [
    "📌 3. Evalúa usuarios sin actividad\n",
    "\n",
    "Estas columnas tienen 54,604 nulos, y todas están relacionadas con transacciones:\n",
    "\n",
    "\n",
    "create_date_transaction\n",
    "\n",
    "direction\n",
    "\n",
    "transactions_state\n",
    "\n",
    "amount_usd\n",
    "\n",
    "transactions_currency\n",
    "\n",
    "transactions_type\n",
    "\n",
    "transaction_id"
   ]
  },
  {
   "cell_type": "markdown",
   "id": "17",
   "metadata": {},
   "source": [
    "👉 Eso indica que hay usuarios sin transacciones. Solo queremos usuarios activos:"
   ]
  },
  {
   "cell_type": "code",
   "execution_count": null,
   "id": "18",
   "metadata": {},
   "outputs": [],
   "source": [
    "df = df[~df['create_date_transaction'].isnull()]\n",
    "df.isnull().sum().sort_values(ascending=False)"
   ]
  },
  {
   "cell_type": "markdown",
   "id": "19",
   "metadata": {},
   "source": [
    "📌 4. Imputa columnas de notificaciones\n",
    "Estas tres columnas tienen 1,010 nulos:\n",
    "\n",
    "status\n",
    "\n",
    "create_date_notification\n",
    "\n",
    "channel\n",
    "\n",
    "reason\n",
    "\n",
    "Rellenamos con 'unknown':"
   ]
  },
  {
   "cell_type": "code",
   "execution_count": null,
   "id": "20",
   "metadata": {},
   "outputs": [],
   "source": [
    "df['status'] = df['status'].fillna('unknown')\n",
    "df['create_date_notification'] = df['create_date_notification'].fillna('unknown')\n",
    "df['channel'] = df['channel'].fillna('unknown')\n",
    "df['reason'] = df['reason'].fillna('unknown')\n",
    "df.isnull().sum().sort_values(ascending=False)"
   ]
  },
  {
   "cell_type": "code",
   "execution_count": null,
   "id": "21",
   "metadata": {},
   "outputs": [],
   "source": [
    "display(df.shape, df.describe(), df.dtypes)"
   ]
  },
  {
   "cell_type": "code",
   "execution_count": null,
   "id": "22",
   "metadata": {},
   "outputs": [],
   "source": [
    "df"
   ]
  },
  {
   "cell_type": "markdown",
   "id": "23",
   "metadata": {},
   "source": [
    "# to_datetime"
   ]
  },
  {
   "cell_type": "code",
   "execution_count": null,
   "id": "24",
   "metadata": {},
   "outputs": [],
   "source": [
    "df['create_date_user'] = pd.to_datetime(df['create_date_user'], errors='coerce')\n",
    "df['create_date_transaction'] = pd.to_datetime(df['create_date_transaction'], errors='coerce')\n",
    "df['create_date_notification'] = pd.to_datetime(df['create_date_notification'], errors='coerce')\n",
    "\n",
    "df[['create_date_user', 'create_date_transaction', 'create_date_notification']].info()\n"
   ]
  },
  {
   "cell_type": "markdown",
   "id": "25",
   "metadata": {},
   "source": [
    "# No tienen actividad en los últimos 30 días"
   ]
  },
  {
   "cell_type": "code",
   "execution_count": null,
   "id": "26",
   "metadata": {},
   "outputs": [],
   "source": [
    "fecha_max = df['create_date_transaction'].max()\n",
    "umbral = fecha_max - pd.Timedelta(days=30)\n",
    "\n",
    "usuarios_activos = df[df['create_date_transaction'] > umbral]['user_id'].unique()\n",
    "df_inactivos = df[~df['user_id'].isin(usuarios_activos)]\n",
    "\n",
    "df_inactivos"
   ]
  },
  {
   "cell_type": "markdown",
   "id": "27",
   "metadata": {},
   "source": [
    "# Nunca aceptaron marketing ni tienen referidos"
   ]
  },
  {
   "cell_type": "code",
   "execution_count": null,
   "id": "28",
   "metadata": {},
   "outputs": [],
   "source": [
    "df_inactivos_marketing = df[\n",
    "    (df['attributes_notifications_marketing_email'] == 0) &\n",
    "    (df['attributes_notifications_marketing_push'] == 0) &\n",
    "    (df['num_referrals'] == 0)\n",
    "]\n",
    "\n",
    "df_inactivos_marketing"
   ]
  },
  {
   "cell_type": "markdown",
   "id": "29",
   "metadata": {},
   "source": [
    "# Distribución por edad "
   ]
  },
  {
   "cell_type": "code",
   "execution_count": null,
   "id": "30",
   "metadata": {},
   "outputs": [],
   "source": [
    "# Calcular la edad\n",
    "from datetime import datetime\n",
    "df['age'] = datetime.now().year - df['birth_year']\n",
    "df"
   ]
  },
  {
   "cell_type": "code",
   "execution_count": null,
   "id": "31",
   "metadata": {},
   "outputs": [],
   "source": [
    "# Crear rangos de edad\n",
    "bins = [17, 24, 34, 44, 54, 64, 100]\n",
    "labels = ['18-24', '25-34', '35-44', '45-54', '55-64', '65+']\n",
    "df['age_group'] = pd.cut(df['age'], bins=bins, labels=labels)\n",
    "df"
   ]
  },
  {
   "cell_type": "code",
   "execution_count": null,
   "id": "32",
   "metadata": {},
   "outputs": [],
   "source": [
    "# Ver distribución (frecuencia)\n",
    "df.groupby('age_group')['user_id'].nunique()"
   ]
  },
  {
   "cell_type": "code",
   "execution_count": null,
   "id": "33",
   "metadata": {},
   "outputs": [],
   "source": [
    "# visulización\n",
    "df_edad = df.groupby('age_group')['user_id'].nunique().reset_index()\n",
    "df_edad.columns = ['age_group', 'unique_users']\n",
    "\n",
    "fig = px.bar(df_edad,\n",
    "             x='age_group',\n",
    "             y='unique_users',\n",
    "             title='Usuarios únicos por grupo de edad',\n",
    "             labels={'age_group': 'Grupo de edad', 'unique_users': 'Usuarios únicos'},\n",
    "             category_orders={'age_group': ['18-24', '25-34', '35-44', '45-54', '55-64', '65+']},\n",
    "             color_discrete_sequence=['#0A7C82'])  # Branding opcional\n",
    "fig.update_layout(bargap=0.2)\n",
    "fig.show()\n"
   ]
  },
  {
   "cell_type": "markdown",
   "id": "34",
   "metadata": {},
   "source": [
    "# Distribución por país (Top 10)"
   ]
  },
  {
   "cell_type": "code",
   "execution_count": null,
   "id": "35",
   "metadata": {},
   "outputs": [],
   "source": [
    "# Agrupar por país y contar usuarios únicos\n",
    "df_pais = df.groupby('country')['user_id'].nunique().sort_values(ascending=False).head(10).reset_index()\n",
    "df_pais.columns = ['country', 'unique_users']\n",
    "\n",
    "df_pais"
   ]
  },
  {
   "cell_type": "code",
   "execution_count": null,
   "id": "36",
   "metadata": {},
   "outputs": [],
   "source": [
    "# Visualizar con Plotly Express\n",
    "fig = px.bar(df_pais.sort_values('unique_users', ascending=False),\n",
    "             x='country',\n",
    "             y='unique_users',\n",
    "             title='Usuarios únicos por país',\n",
    "             labels={'country': 'País', 'unique_users': 'Usuarios únicos'},\n",
    "             color_discrete_sequence=['#0A7C82'])  # Color opcional\n",
    "fig.update_layout(xaxis_tickangle=-45, bargap=0.2)\n",
    "fig.show()\n"
   ]
  },
  {
   "cell_type": "markdown",
   "id": "37",
   "metadata": {},
   "source": [
    "# Distribución por plan"
   ]
  },
  {
   "cell_type": "code",
   "execution_count": null,
   "id": "38",
   "metadata": {},
   "outputs": [],
   "source": [
    "# Agrupar por plan y contar usuarios únicos\n",
    "df_plan = df.groupby('plan')['user_id'].nunique().reset_index()\n",
    "df_plan.columns = ['plan', 'unique_users']\n",
    "\n",
    "df_plan"
   ]
  },
  {
   "cell_type": "code",
   "execution_count": null,
   "id": "39",
   "metadata": {},
   "outputs": [],
   "source": [
    "# Visualizar con gráfico de barras\n",
    "fig = px.bar(df_plan.sort_values('unique_users', ascending=False),\n",
    "             x='plan',\n",
    "             y='unique_users',\n",
    "             title='Usuarios únicos por tipo de plan',\n",
    "             labels={'plan': 'Tipo de plan', 'unique_users': 'Usuarios únicos'},\n",
    "             color_discrete_sequence=['#0A7C82'])  # Color opcional\n",
    "fig.update_layout(xaxis_tickangle=-20)\n",
    "fig.show()\n"
   ]
  },
  {
   "cell_type": "markdown",
   "id": "40",
   "metadata": {},
   "source": [
    "# Distribución de usuarios únicos según si tienen activada la función de cripto"
   ]
  },
  {
   "cell_type": "code",
   "execution_count": null,
   "id": "41",
   "metadata": {},
   "outputs": [],
   "source": [
    "# Agrupar por la columna user_settings_crypto_unlocked y contar usuarios únicos\n",
    "df_crypto = df.groupby('user_settings_crypto_unlocked')['user_id'].nunique().reset_index()\n",
    "df_crypto.columns = ['crypto_unlocked', 'unique_users']\n",
    "\n",
    "df_crypto"
   ]
  },
  {
   "cell_type": "code",
   "execution_count": null,
   "id": "42",
   "metadata": {},
   "outputs": [],
   "source": [
    "# Visualizar con plotly.express (gráfico de pastel)\n",
    "\n",
    "fig = px.pie(df_crypto, \n",
    "             names='crypto_unlocked', \n",
    "             values='unique_users',\n",
    "             title='Distribución de usuarios por uso de funcionalidad cripto',\n",
    "             labels={'crypto_unlocked': '¿Activó cripto?', 'unique_users': 'Usuarios únicos'},\n",
    "             color_discrete_sequence=px.colors.sequential.Teal)\n",
    "\n",
    "fig.update_traces(textinfo='percent+label')\n",
    "fig.show()\n"
   ]
  },
  {
   "cell_type": "markdown",
   "id": "43",
   "metadata": {},
   "source": [
    "# Distribución de usuarios únicos según su canal de notificaciones"
   ]
  },
  {
   "cell_type": "code",
   "execution_count": null,
   "id": "44",
   "metadata": {},
   "outputs": [],
   "source": [
    "# Agrupar por canal y contar usuarios únicos\n",
    "df_type_notifications = df.groupby('channel')['user_id'].nunique().reset_index()\n",
    "df_type_notifications.columns = ['channel', 'unique_users']\n",
    "\n",
    "df_type_notifications"
   ]
  },
  {
   "cell_type": "code",
   "execution_count": null,
   "id": "45",
   "metadata": {},
   "outputs": [],
   "source": [
    "# Visualizar con plotly.express (gráfico de barras)\n",
    "fig = px.bar(df_type_notifications,\n",
    "             x='channel',\n",
    "             y='unique_users',\n",
    "             title='Usuarios únicos por canal de notificación',\n",
    "             labels={'channel': 'Canal', 'unique_users': 'Usuarios únicos'},\n",
    "             color='channel',\n",
    "             text='unique_users')\n",
    "\n",
    "fig.update_traces(texttemplate='%{text}', textposition='outside')\n",
    "fig.update_layout(uniformtext_minsize=8, uniformtext_mode='hide')\n",
    "fig.show()\n"
   ]
  },
  {
   "cell_type": "markdown",
   "id": "46",
   "metadata": {},
   "source": [
    "# Distribución por número de contactos"
   ]
  },
  {
   "cell_type": "code",
   "execution_count": null,
   "id": "47",
   "metadata": {},
   "outputs": [],
   "source": [
    "df.groupby('num_contacts')['user_id'].nunique()"
   ]
  },
  {
   "cell_type": "code",
   "execution_count": null,
   "id": "48",
   "metadata": {},
   "outputs": [],
   "source": [
    "fig = px.histogram(\n",
    "    df_users,\n",
    "    x='num_contacts',\n",
    "    nbins=30,  # puedes ajustar la cantidad de bins si hay mucha variación\n",
    "    title='Distribución por número de contactos',\n",
    "    labels={'num_contacts': 'Número de contactos'},\n",
    "    color_discrete_sequence=['#00b894']  # opcional: color personalizado\n",
    ")\n",
    "\n",
    "fig.update_layout(bargap=0.1)\n",
    "fig.show()"
   ]
  },
  {
   "cell_type": "markdown",
   "id": "49",
   "metadata": {},
   "source": [
    "# Distribución por número de referidos exitosos"
   ]
  },
  {
   "cell_type": "code",
   "execution_count": null,
   "id": "50",
   "metadata": {},
   "outputs": [],
   "source": [
    "display(df_users['num_successful_referrals'].dtype, df_users['num_successful_referrals'].describe())"
   ]
  },
  {
   "cell_type": "code",
   "execution_count": null,
   "id": "51",
   "metadata": {},
   "outputs": [],
   "source": [
    "df_referrals = df_users[df_users['num_successful_referrals'] > 0]"
   ]
  },
  {
   "cell_type": "code",
   "execution_count": null,
   "id": "52",
   "metadata": {},
   "outputs": [],
   "source": [
    "fig = px.histogram(\n",
    "    df_referrals,\n",
    "    x='num_successful_referrals',\n",
    "    nbins=20,\n",
    "    title='Distribución de usuarios con referidos exitosos (>0)',\n",
    "    labels={'num_successful_referrals': 'Referidos exitosos'},\n",
    "    color_discrete_sequence=['#6c5ce7']\n",
    ")\n",
    "\n",
    "fig.update_layout(bargap=0.1)\n",
    "fig.show()"
   ]
  },
  {
   "cell_type": "markdown",
   "id": "53",
   "metadata": {},
   "source": [
    "# Distribución por marca de dispositivo"
   ]
  },
  {
   "cell_type": "code",
   "execution_count": null,
   "id": "54",
   "metadata": {},
   "outputs": [],
   "source": [
    "# Agrupar por marca y contar usuarios únicos\n",
    "df_brand = df.groupby('brand_device')['user_id'].nunique().reset_index().sort_values(by='user_id', ascending=False)\n",
    "\n",
    "# Renombrar columna para claridad\n",
    "df_brand.columns = ['Marca del dispositivo', 'Usuarios únicos']\n",
    "\n",
    "# Crear gráfico de barras\n",
    "fig = px.bar(\n",
    "    df_brand,\n",
    "    x='Marca del dispositivo',\n",
    "    y='Usuarios únicos',\n",
    "    title='Distribución por marca de dispositivo'\n",
    ")\n",
    "\n",
    "fig.update_layout(xaxis_tickangle=-45)\n",
    "fig.show()\n"
   ]
  },
  {
   "cell_type": "markdown",
   "id": "55",
   "metadata": {},
   "source": [
    "# Distribución por tipo de transacción"
   ]
  },
  {
   "cell_type": "code",
   "execution_count": null,
   "id": "56",
   "metadata": {},
   "outputs": [],
   "source": [
    "import plotly.express as px\n",
    "\n",
    "# Contar número de transacciones por tipo\n",
    "df_tx_type = df_transactions['transactions_type'].value_counts().reset_index()\n",
    "df_tx_type.columns = ['Tipo de transacción', 'Cantidad']\n",
    "\n",
    "# Gráfico de barras\n",
    "fig = px.bar(\n",
    "    df_tx_type,\n",
    "    x='Tipo de transacción',\n",
    "    y='Cantidad',\n",
    "    title='Distribución por tipo de transacción',\n",
    "    color_discrete_sequence=['#0984e3']\n",
    ")\n",
    "\n",
    "fig.update_layout(xaxis_tickangle=-45)\n",
    "fig.show()\n"
   ]
  },
  {
   "cell_type": "markdown",
   "id": "57",
   "metadata": {},
   "source": [
    "# Usuarios únicos por tipo de transacción"
   ]
  },
  {
   "cell_type": "code",
   "execution_count": null,
   "id": "58",
   "metadata": {},
   "outputs": [],
   "source": [
    "df_tx_type_unique = df_transactions.groupby('transactions_type')['user_id'].nunique().reset_index()\n",
    "df_tx_type_unique.columns = ['Tipo de transacción', 'Usuarios únicos']\n",
    "\n",
    "fig = px.bar(\n",
    "    df_tx_type_unique,\n",
    "    x='Tipo de transacción',\n",
    "    y='Usuarios únicos',\n",
    "    title='Usuarios únicos por tipo de transacción',\n",
    "    color_discrete_sequence=['#00cec9']\n",
    ")\n",
    "\n",
    "fig.update_layout(xaxis_tickangle=-45)\n",
    "fig.show()\n"
   ]
  },
  {
   "cell_type": "markdown",
   "id": "59",
   "metadata": {},
   "source": [
    "# Distribución por estado de la transacción"
   ]
  },
  {
   "cell_type": "code",
   "execution_count": null,
   "id": "60",
   "metadata": {},
   "outputs": [],
   "source": [
    "df_state = df_transactions['transactions_state'].value_counts().reset_index()\n",
    "df_state.columns = ['Estado de transacción', 'Cantidad']\n",
    "\n",
    "fig = px.bar(\n",
    "    df_state,\n",
    "    x='Estado de transacción',\n",
    "    y='Cantidad',\n",
    "    title='Distribución por estado de la transacción',\n",
    "    color_discrete_sequence=['#6c5ce7']\n",
    ")\n",
    "\n",
    "fig.update_layout(xaxis_tickangle=-45)\n",
    "fig.show()"
   ]
  },
  {
   "cell_type": "markdown",
   "id": "61",
   "metadata": {},
   "source": [
    "# Usuarios únicos por estado de la transacción"
   ]
  },
  {
   "cell_type": "code",
   "execution_count": null,
   "id": "62",
   "metadata": {},
   "outputs": [],
   "source": [
    "df_state_unique = df_transactions.groupby('transactions_state')['user_id'].nunique().reset_index()\n",
    "df_state_unique.columns = ['Estado de transacción', 'Usuarios únicos']\n",
    "\n",
    "fig = px.bar(\n",
    "    df_state_unique,\n",
    "    x='Estado de transacción',\n",
    "    y='Usuarios únicos',\n",
    "    title='Usuarios únicos por estado de la transacción',\n",
    "    color_discrete_sequence=['#fd79a8']\n",
    ")\n",
    "\n",
    "fig.update_layout(xaxis_tickangle=-45)\n",
    "fig.show()\n"
   ]
  },
  {
   "cell_type": "markdown",
   "id": "63",
   "metadata": {},
   "source": [
    "# Distribución por dirección del flujo de transacción"
   ]
  },
  {
   "cell_type": "code",
   "execution_count": null,
   "id": "64",
   "metadata": {},
   "outputs": [],
   "source": [
    "df_direction = df_transactions['direction'].value_counts().reset_index()\n",
    "df_direction.columns = ['Dirección', 'Cantidad']\n",
    "\n",
    "fig = px.bar(\n",
    "    df_direction,\n",
    "    x='Dirección',\n",
    "    y='Cantidad',\n",
    "    title='Distribución por dirección del flujo de transacción',\n",
    "    color_discrete_sequence=['#00cec9']\n",
    ")\n",
    "\n",
    "fig.update_layout(xaxis_tickangle=-45)\n",
    "fig.show()\n"
   ]
  },
  {
   "cell_type": "markdown",
   "id": "65",
   "metadata": {},
   "source": [
    "# Usuarios únicos por dirección del flujo de transacción"
   ]
  },
  {
   "cell_type": "code",
   "execution_count": null,
   "id": "66",
   "metadata": {},
   "outputs": [],
   "source": [
    "df_direction_unique = df_transactions.groupby('direction')['user_id'].nunique().reset_index()\n",
    "df_direction_unique.columns = ['Dirección', 'Usuarios únicos']\n",
    "\n",
    "fig = px.bar(\n",
    "    df_direction_unique,\n",
    "    x='Dirección',\n",
    "    y='Usuarios únicos',\n",
    "    title='Usuarios únicos por dirección del flujo de transacción',\n",
    "    color_discrete_sequence=['#0984e3']\n",
    ")\n",
    "\n",
    "fig.update_layout(xaxis_tickangle=-45)\n",
    "fig.show()\n"
   ]
  },
  {
   "cell_type": "markdown",
   "id": "67",
   "metadata": {},
   "source": [
    "# Distribución por moneda de las transacciones"
   ]
  },
  {
   "cell_type": "code",
   "execution_count": null,
   "id": "68",
   "metadata": {},
   "outputs": [],
   "source": [
    "df_currency = df_transactions['transactions_currency'].value_counts().reset_index()\n",
    "df_currency.columns = ['Moneda', 'Cantidad']\n",
    "\n",
    "fig = px.bar(\n",
    "    df_currency,\n",
    "    x='Moneda',\n",
    "    y='Cantidad',\n",
    "    title='Distribución por moneda de las transacciones',\n",
    "    color_discrete_sequence=[\"#09bb88\"]\n",
    ")\n",
    "\n",
    "fig.update_layout(xaxis_tickangle=-45)\n",
    "fig.show()\n"
   ]
  },
  {
   "cell_type": "code",
   "execution_count": null,
   "id": "69",
   "metadata": {},
   "outputs": [],
   "source": [
    "df_currency_unique = df.groupby('transactions_currency')['user_id'].nunique().reset_index()\n",
    "df_currency_unique.columns = ['Moneda', 'Usuarios únicos']\n",
    "\n",
    "fig = px.bar(\n",
    "    df_currency_unique,\n",
    "    x='Moneda',\n",
    "    y='Usuarios únicos',\n",
    "    title='Usuarios únicos por moneda de transacción',\n",
    "    color_discrete_sequence=['#00b894']\n",
    ")\n",
    "\n",
    "fig.update_layout(xaxis_tickangle=-45)\n",
    "fig.show()\n"
   ]
  },
  {
   "cell_type": "markdown",
   "id": "70",
   "metadata": {},
   "source": [
    "# Distribución del monto (amount_usd)"
   ]
  },
  {
   "cell_type": "code",
   "execution_count": null,
   "id": "71",
   "metadata": {},
   "outputs": [],
   "source": [
    "fig = px.histogram(\n",
    "    df_transactions,\n",
    "    x='amount_usd',\n",
    "    nbins=100,\n",
    "    title='Distribución del monto (amount_usd)',\n",
    "    color_discrete_sequence=['#74b9ff']\n",
    ")\n",
    "\n",
    "fig.update_layout(xaxis_title='Monto en USD', yaxis_title='Frecuencia')\n",
    "fig.show()\n"
   ]
  },
  {
   "cell_type": "code",
   "execution_count": null,
   "id": "72",
   "metadata": {},
   "outputs": [],
   "source": [
    "fig = px.box(\n",
    "    df_transactions,\n",
    "    y='amount_usd',\n",
    "    title='Distribución del monto (amount_usd) - Boxplot',\n",
    "    points='all',  # para mostrar todos los puntos\n",
    "    color_discrete_sequence=['#0984e3']\n",
    ")\n",
    "\n",
    "fig.update_layout(yaxis_title='Monto en USD')\n",
    "fig.show()\n"
   ]
  },
  {
   "cell_type": "code",
   "execution_count": null,
   "id": "73",
   "metadata": {},
   "outputs": [],
   "source": [
    "df.info()"
   ]
  },
  {
   "cell_type": "markdown",
   "id": "74",
   "metadata": {},
   "source": [
    "# Distribución por país del comercio (ea_merchant_country)"
   ]
  },
  {
   "cell_type": "code",
   "execution_count": null,
   "id": "75",
   "metadata": {},
   "outputs": [],
   "source": [
    "# Agrupamos por país y contamos el número de transacciones\n",
    "country_counts = df_transactions['ea_merchant_country'].value_counts().reset_index()\n",
    "country_counts.columns = ['ea_merchant_country', 'cantidad']\n",
    "\n",
    "# Gráfico de barras\n",
    "fig = px.bar(\n",
    "    country_counts.head(20),  # Puedes ajustar el número si hay muchos países\n",
    "    x='ea_merchant_country',\n",
    "    y='cantidad',\n",
    "    title='Distribución por país del comercio (ea_merchant_country)',\n",
    "    color='cantidad',\n",
    "    color_continuous_scale='Blues'\n",
    ")\n",
    "\n",
    "fig.update_layout(\n",
    "    xaxis_title='País del comercio',\n",
    "    yaxis_title='Número de transacciones',\n",
    "    xaxis_tickangle=45\n",
    ")\n",
    "\n",
    "fig.show()\n"
   ]
  },
  {
   "cell_type": "markdown",
   "id": "76",
   "metadata": {},
   "source": [
    "# Distribución por ciudad del comercio (ea_merchant_city)"
   ]
  },
  {
   "cell_type": "code",
   "execution_count": null,
   "id": "77",
   "metadata": {},
   "outputs": [],
   "source": [
    "# Agrupar por ciudad del comercio y contar las transacciones\n",
    "city_counts = df_transactions['ea_merchant_city'].value_counts().reset_index()\n",
    "city_counts.columns = ['ea_merchant_city', 'cantidad']\n",
    "\n",
    "# Gráfico de barras para las principales ciudades\n",
    "fig = px.bar(\n",
    "    city_counts.head(20),  # Puedes ajustar el número si hay muchas ciudades\n",
    "    x='ea_merchant_city',\n",
    "    y='cantidad',\n",
    "    title='Distribución por ciudad del comercio (ea_merchant_city)',\n",
    "    color='cantidad',\n",
    "    color_continuous_scale='Oranges'\n",
    ")\n",
    "\n",
    "fig.update_layout(\n",
    "    xaxis_title='Ciudad del comercio',\n",
    "    yaxis_title='Número de transacciones',\n",
    "    xaxis_tickangle=45\n",
    ")\n",
    "\n",
    "fig.show()\n"
   ]
  },
  {
   "cell_type": "markdown",
   "id": "78",
   "metadata": {},
   "source": [
    "# Distribución por presencia del usuario (ea_cardholderpresence)"
   ]
  },
  {
   "cell_type": "code",
   "execution_count": null,
   "id": "79",
   "metadata": {},
   "outputs": [],
   "source": [
    "# Contar la cantidad de transacciones por tipo de presencia\n",
    "presence_counts = df_transactions['ea_cardholderpresence'].value_counts().reset_index()\n",
    "presence_counts.columns = ['ea_cardholderpresence', 'cantidad']\n",
    "\n",
    "# Gráfico de barras\n",
    "fig = px.bar(\n",
    "    presence_counts,\n",
    "    x='ea_cardholderpresence',\n",
    "    y='cantidad',\n",
    "    title='Distribución por presencia del usuario (ea_cardholderpresence)',\n",
    "    color='cantidad',\n",
    "    color_continuous_scale='Purples'\n",
    ")\n",
    "\n",
    "fig.update_layout(\n",
    "    xaxis_title='Presencia del usuario',\n",
    "    yaxis_title='Número de transacciones'\n",
    ")\n",
    "\n",
    "fig.show()\n"
   ]
  },
  {
   "cell_type": "markdown",
   "id": "80",
   "metadata": {},
   "source": [
    "# Serie de tiempo diaria"
   ]
  },
  {
   "cell_type": "code",
   "execution_count": null,
   "id": "81",
   "metadata": {},
   "outputs": [],
   "source": [
    "# Agrupar por fecha diaria\n",
    "daily_counts = df.groupby(df['create_date_transaction'].dt.date)['transaction_id'].nunique().reset_index()\n",
    "daily_counts.columns = ['fecha', 'num_transacciones']\n",
    "\n",
    "# Gráfico\n",
    "fig = px.line(daily_counts, x='fecha', y='num_transacciones',\n",
    "              title='Transacciones por día',\n",
    "              markers=True)\n",
    "\n",
    "fig.update_layout(xaxis_title='Fecha', yaxis_title='Cantidad de transacciones')\n",
    "fig.show()\n"
   ]
  },
  {
   "cell_type": "markdown",
   "id": "82",
   "metadata": {},
   "source": [
    "#  Serie de tiempo semanal"
   ]
  },
  {
   "cell_type": "code",
   "execution_count": null,
   "id": "83",
   "metadata": {},
   "outputs": [],
   "source": [
    "# Agrupar por semana\n",
    "df['semana'] = df['create_date_transaction'].dt.to_period('W').apply(lambda r: r.start_time)\n",
    "\n"
   ]
  },
  {
   "cell_type": "code",
   "execution_count": null,
   "id": "84",
   "metadata": {},
   "outputs": [],
   "source": [
    "weekly_counts = df.groupby('semana')['transaction_id'].nunique().reset_index()\n",
    "weekly_counts"
   ]
  },
  {
   "cell_type": "code",
   "execution_count": null,
   "id": "85",
   "metadata": {},
   "outputs": [],
   "source": [
    "weekly_counts.columns = ['semana', 'num_transacciones']"
   ]
  },
  {
   "cell_type": "code",
   "execution_count": null,
   "id": "86",
   "metadata": {},
   "outputs": [],
   "source": [
    "fig = px.line(weekly_counts, x='semana', y='num_transacciones',\n",
    "              title='Transacciones por semana',\n",
    "              markers=True)\n",
    "\n",
    "fig.update_layout(xaxis_title='Semana', yaxis_title='Cantidad de transacciones')\n",
    "fig.show()"
   ]
  },
  {
   "cell_type": "markdown",
   "id": "87",
   "metadata": {},
   "source": [
    "# Serie de tiempo mensual"
   ]
  },
  {
   "cell_type": "code",
   "execution_count": null,
   "id": "88",
   "metadata": {},
   "outputs": [],
   "source": [
    "# Agrupar por mes\n",
    "df['mes'] = df['create_date_transaction'].dt.to_period('M').astype(str)\n",
    "df\n"
   ]
  },
  {
   "cell_type": "code",
   "execution_count": null,
   "id": "89",
   "metadata": {},
   "outputs": [],
   "source": [
    "monthly_counts = df.groupby('mes')['transaction_id'].nunique().reset_index()\n",
    "monthly_counts"
   ]
  },
  {
   "cell_type": "code",
   "execution_count": null,
   "id": "90",
   "metadata": {},
   "outputs": [],
   "source": [
    "monthly_counts.columns = ['mes', 'num_transacciones']"
   ]
  },
  {
   "cell_type": "code",
   "execution_count": null,
   "id": "91",
   "metadata": {},
   "outputs": [],
   "source": [
    "fig = px.line(monthly_counts, x='mes', y='num_transacciones',\n",
    "              title='Transacciones por mes',\n",
    "              markers=True)\n",
    "\n",
    "fig.update_layout(xaxis_title='Mes', yaxis_title='Cantidad de transacciones')\n",
    "fig.show()"
   ]
  },
  {
   "cell_type": "markdown",
   "id": "92",
   "metadata": {},
   "source": [
    "# Distribución por motivo de notificación"
   ]
  },
  {
   "cell_type": "code",
   "execution_count": null,
   "id": "93",
   "metadata": {},
   "outputs": [],
   "source": [
    "df_notifications.describe()"
   ]
  },
  {
   "cell_type": "code",
   "execution_count": null,
   "id": "94",
   "metadata": {},
   "outputs": [],
   "source": [
    "# Agrupar por motivo de notificación y contar cuántas veces aparece cada uno\n",
    "reason_counts = df_notifications['reason'].value_counts().reset_index()\n",
    "reason_counts.columns = ['reason', 'count']\n",
    "\n",
    "# Crear gráfico de barras\n",
    "fig = px.bar(reason_counts, \n",
    "             x='reason', \n",
    "             y='count', \n",
    "             title='Distribución por motivo de notificación',\n",
    "             labels={'reason': 'Motivo de notificación', 'count': 'Número de notificaciones'},\n",
    "             text='count')\n",
    "\n",
    "fig.update_layout(xaxis_tickangle=-45)\n",
    "fig.show()\n"
   ]
  },
  {
   "cell_type": "markdown",
   "id": "95",
   "metadata": {},
   "source": [
    "# Distribución por canal de notificación"
   ]
  },
  {
   "cell_type": "code",
   "execution_count": null,
   "id": "96",
   "metadata": {},
   "outputs": [],
   "source": [
    "# Para la distribución por status (estado de la notificación: SENT, FAILED, DELIVERED, etc.), \n",
    "# NO es necesario usar usuarios únicos, porque lo que interesa aquí es cuántas notificaciones se enviaron en cada estado, no cuántos usuarios distintos las recibieron.\n",
    "\n",
    "# Conteo de notificaciones por canal\n",
    "channel_counts = df_notifications['channel'].value_counts().reset_index()\n",
    "channel_counts.columns = ['channel', 'count']\n",
    "\n",
    "# Gráfico de barras\n",
    "fig = px.bar(channel_counts,\n",
    "             x='channel',\n",
    "             y='count',\n",
    "             title='Distribución por canal de notificación',\n",
    "             labels={'channel': 'Canal', 'count': 'Cantidad'},\n",
    "             text='count')\n",
    "\n",
    "fig.update_layout(xaxis_tickangle=-45)\n",
    "fig.show()\n",
    "\n"
   ]
  },
  {
   "cell_type": "markdown",
   "id": "97",
   "metadata": {},
   "source": [
    "# Distribución por estado de notificación"
   ]
  },
  {
   "cell_type": "code",
   "execution_count": null,
   "id": "98",
   "metadata": {},
   "outputs": [],
   "source": [
    "df_notifications['status'].unique()"
   ]
  },
  {
   "cell_type": "code",
   "execution_count": null,
   "id": "99",
   "metadata": {},
   "outputs": [],
   "source": [
    "# Conteo de notificaciones por status\n",
    "status_counts = df_notifications['status'].value_counts().reset_index()\n",
    "status_counts.columns = ['status', 'count']\n",
    "\n",
    "# Gráfico de barras\n",
    "fig = px.bar(status_counts,\n",
    "             x='status',\n",
    "             y='count',\n",
    "             title='Distribución por estado de notificación',\n",
    "             labels={'status': 'Estado', 'count': 'Cantidad'},\n",
    "             text='count')\n",
    "\n",
    "fig.update_layout(xaxis_tickangle=-45)\n",
    "fig.show()\n"
   ]
  },
  {
   "cell_type": "markdown",
   "id": "100",
   "metadata": {},
   "source": [
    "# Notificaciones enviadas por día"
   ]
  },
  {
   "cell_type": "code",
   "execution_count": null,
   "id": "101",
   "metadata": {},
   "outputs": [],
   "source": [
    "df_notifications.info()"
   ]
  },
  {
   "cell_type": "code",
   "execution_count": null,
   "id": "102",
   "metadata": {},
   "outputs": [],
   "source": [
    "# Asegúrate de que la columna sea datetime\n",
    "df_notifications['create_date_notification'] = pd.to_datetime(df_notifications['create_date_notification'])"
   ]
  },
  {
   "cell_type": "code",
   "execution_count": null,
   "id": "103",
   "metadata": {},
   "outputs": [],
   "source": [
    "\n",
    "# Agrupar por fecha (diaria)\n",
    "notificaciones_por_dia = df_notifications.groupby(df_notifications['create_date_notification'].dt.date).size().reset_index(name='count')"
   ]
  },
  {
   "cell_type": "code",
   "execution_count": null,
   "id": "104",
   "metadata": {},
   "outputs": [],
   "source": [
    "\n",
    "# Graficar\n",
    "fig = px.line(notificaciones_por_dia, x='create_date_notification', y='count',\n",
    "              title='Notificaciones enviadas por día')\n",
    "fig.show()"
   ]
  },
  {
   "cell_type": "markdown",
   "id": "105",
   "metadata": {},
   "source": [
    "# Notificaciones enviadas por semana"
   ]
  },
  {
   "cell_type": "code",
   "execution_count": null,
   "id": "106",
   "metadata": {},
   "outputs": [],
   "source": [
    "# Agrupar por semana\n",
    "df_notifications['semana'] = df_notifications['create_date_notification'].dt.to_period('W').apply(lambda r: r.start_time)\n",
    "df_notifications\n"
   ]
  },
  {
   "cell_type": "code",
   "execution_count": null,
   "id": "107",
   "metadata": {},
   "outputs": [],
   "source": [
    "notificaciones_por_semana = df_notifications.groupby('semana').size().reset_index(name='count')\n",
    "notificaciones_por_semana"
   ]
  },
  {
   "cell_type": "code",
   "execution_count": null,
   "id": "108",
   "metadata": {},
   "outputs": [],
   "source": [
    "fig = px.line(notificaciones_por_semana, x='semana', y='count',\n",
    "              title='Notificaciones enviadas por semana')\n",
    "fig.show()"
   ]
  },
  {
   "cell_type": "markdown",
   "id": "109",
   "metadata": {},
   "source": [
    "# Notificaciones enviadas por mes"
   ]
  },
  {
   "cell_type": "code",
   "execution_count": null,
   "id": "110",
   "metadata": {},
   "outputs": [],
   "source": [
    "# Crear columna de año y mes\n",
    "df_notifications['mes'] = df_notifications['create_date_notification'].dt.to_period('M').astype(str)\n",
    "df_notifications"
   ]
  },
  {
   "cell_type": "code",
   "execution_count": null,
   "id": "111",
   "metadata": {},
   "outputs": [],
   "source": [
    "# Agrupar por mes\n",
    "notificaciones_por_mes = df_notifications.groupby('mes').size().reset_index(name='count')\n",
    "notificaciones_por_mes"
   ]
  },
  {
   "cell_type": "code",
   "execution_count": null,
   "id": "112",
   "metadata": {},
   "outputs": [],
   "source": [
    "fig = px.line(notificaciones_por_mes, x='mes', y='count',\n",
    "              title='Notificaciones enviadas por mes',\n",
    "              markers=True)\n",
    "fig.update_layout(xaxis_title='Mes', yaxis_title='Cantidad de notificaciones')\n",
    "fig.show()"
   ]
  },
  {
   "cell_type": "code",
   "execution_count": null,
   "id": "113",
   "metadata": {},
   "outputs": [],
   "source": []
  }
 ],
 "metadata": {
  "kernelspec": {
   "display_name": "venv",
   "language": "python",
   "name": "python3"
  },
  "language_info": {
   "codemirror_mode": {
    "name": "ipython",
    "version": 3
   },
   "file_extension": ".py",
   "mimetype": "text/x-python",
   "name": "python",
   "nbconvert_exporter": "python",
   "pygments_lexer": "ipython3",
   "version": "3.13.5"
  }
 },
 "nbformat": 4,
 "nbformat_minor": 5
}
